{
 "cells": [
  {
   "cell_type": "markdown",
   "metadata": {},
   "source": [
    "# Inference for Gaussian Graphical Model"
   ]
  },
  {
   "cell_type": "code",
   "execution_count": 1,
   "metadata": {
    "collapsed": false
   },
   "outputs": [],
   "source": [
    "import CovSel\n",
    "import HD\n",
    "import ROCKET"
   ]
  },
  {
   "cell_type": "code",
   "execution_count": 2,
   "metadata": {
    "collapsed": false
   },
   "outputs": [
    {
     "data": {
      "text/plain": [
       "genData (generic function with 1 method)"
      ]
     },
     "execution_count": 2,
     "metadata": {},
     "output_type": "execute_result"
    }
   ],
   "source": [
    "# generate covariance\n",
    "ρ = 0.5\n",
    "py = 200\n",
    "px = 1000\n",
    "\n",
    "function generatePrecision(::Symbol, p, ρ)\n",
    "    Ω = eye(p)    \n",
    "    for c=1:p-1        \n",
    "        Ω[c,c+1] = ρ\n",
    "        Ω[c+1,c] = ρ    \n",
    "    end    \n",
    "    Ω\n",
    "end\n",
    "\n",
    "Ωy = generatePrecision(:Chain, py, ρ)\n",
    "Σx = eye(px)\n",
    "for c=1:px, r=c+1:px\n",
    "    Σx[r,c] = ρ\n",
    "    Σx[c,r] = ρ\n",
    "end\n",
    "\n",
    "Γ = zeros(px, py)\n",
    "for c=1:py\n",
    "    for r=1:10\n",
    "        Γ[r,c] = rand()\n",
    "    end\n",
    "end\n",
    "\n",
    "function genData(Σx, Γ, Ωy, n)\n",
    "    p = size(Σx, 2)\n",
    "    X = randn(n, p) * sqrtm(Σx)\n",
    "    Y = X * Γ + CovSel.generateData(Ωy, n)\n",
    "    X, Y\n",
    "end\n",
    "\n"
   ]
  },
  {
   "cell_type": "code",
   "execution_count": 10,
   "metadata": {
    "collapsed": false
   },
   "outputs": [
    {
     "name": "stderr",
     "output_type": "stream",
     "text": [
      "WARNING: replacing module HD\n",
      "WARNING: replacing module CovSel\n",
      "WARNING: replacing module ROCKET\n"
     ]
    }
   ],
   "source": [
    "reload(\"HD\")\n",
    "reload(\"CovSel\")\n",
    "reload(\"ROCKET\")"
   ]
  },
  {
   "cell_type": "code",
   "execution_count": 3,
   "metadata": {
    "collapsed": false
   },
   "outputs": [
    {
     "ename": "LoadError",
     "evalue": "\u001b[91mUndefVarError: Ω not defined\u001b[39m",
     "output_type": "error",
     "traceback": [
      "\u001b[91mUndefVarError: Ω not defined\u001b[39m",
      ""
     ]
    }
   ],
   "source": [
    "numRep = 100\n",
    "n = 400\n",
    "X = CovSel.generateData(Ω, n)\n",
    "res = zeros(numRep)\n",
    "options =  ROCKET.ROCKETOptions(;λ=sqrt(2.*log(p)/n), refit=true)\n",
    "a = 1\n",
    "b = 7\n",
    "for rep=1:numRep\n",
    "    X = CovSel.generateData(Ω, n)\n",
    "#     eP, eVar = ROCKET._teInferenceGaussian(X, 1, 7, 2, options)\n",
    "#     @time eP, eVar = ROCKET._teInferenceGaussian(X, 1, 7, [2,4,5])\n",
    "    eP, eVar = ROCKET.teInference(X, a, b, 3, 4, options)\n",
    "    res[rep] = (eP - Ω[a,b]) / sqrt(eVar)\n",
    "end"
   ]
  },
  {
   "cell_type": "code",
   "execution_count": 6,
   "metadata": {
    "collapsed": false
   },
   "outputs": [
    {
     "name": "stderr",
     "output_type": "stream",
     "text": [
      "\u001b[1m\u001b[36mINFO: \u001b[39m\u001b[22m\u001b[36mInstalling PyQt5 via Anaconda's /home/mkolar/anaconda/bin/conda...\n",
      "\u001b[39m"
     ]
    },
    {
     "name": "stdout",
     "output_type": "stream",
     "text": [
      "Fetching package metadata .........\n",
      "Solving package specifications: .\n",
      "\n",
      "# All requested packages already installed.\n",
      "# packages in environment at /home/mkolar/anaconda:\n",
      "#\n",
      "pyqt                      4.11.4                   py27_4  \n"
     ]
    }
   ],
   "source": [
    "import Distributions\n",
    "import PyPlot"
   ]
  },
  {
   "cell_type": "code",
   "execution_count": null,
   "metadata": {
    "collapsed": false
   },
   "outputs": [],
   "source": [
    "qq = Distributions.qqbuild(Distributions.Normal(), res) \n",
    "PyPlot.scatter(qq.qx, qq.qy)\n",
    "PyPlot.plot(-4:0.01:4, -4:0.01:4, linestyle=\"--\", color=\"red\")"
   ]
  },
  {
   "cell_type": "markdown",
   "metadata": {},
   "source": [
    "# Comparison between one stage and two stage methods"
   ]
  },
  {
   "cell_type": "code",
   "execution_count": 4,
   "metadata": {
    "collapsed": false
   },
   "outputs": [],
   "source": [
    "srand(123)\n",
    "\n",
    "numRep = 100\n",
    "n = 400\n",
    "\n",
    "res = zeros(numRep)\n",
    "options =  ROCKET.ROCKETOptions(;λ=sqrt(1.8*log(py+px)), refit=true)\n",
    "a = 1\n",
    "b = 2\n",
    "for rep=1:numRep\n",
    "    X, Y = genData(Σx, Γ, Ωy, n)\n",
    "    eP, eVar = ROCKET.teInference([Y X], a, b, 2, 4, options)\n",
    "    res[rep] = (eP - Ωy[a,b]) / sqrt(eVar)\n",
    "end"
   ]
  },
  {
   "cell_type": "code",
   "execution_count": 7,
   "metadata": {
    "collapsed": false
   },
   "outputs": [
    {
     "data": {
      "image/png": "[encoded data removed]",
      "text/plain": [
       "PyPlot.Figure(PyObject <matplotlib.figure.Figure object at 0x7fb9003e2d10>)"
      ]
     },
     "metadata": {},
     "output_type": "display_data"
    },
    {
     "data": {
      "text/plain": [
       "1-element Array{Any,1}:\n",
       " PyObject <matplotlib.lines.Line2D object at 0x7fb8e36ea710>"
      ]
     },
     "execution_count": 7,
     "metadata": {},
     "output_type": "execute_result"
    }
   ],
   "source": [
    "qq = Distributions.qqbuild(Distributions.Normal(), res) \n",
    "PyPlot.scatter(qq.qx, qq.qy)\n",
    "PyPlot.plot(-4:0.01:4, -4:0.01:4, linestyle=\"--\", color=\"red\")"
   ]
  },
  {
   "cell_type": "code",
   "execution_count": null,
   "metadata": {
    "collapsed": false
   },
   "outputs": [
    {
     "name": "stdout",
     "output_type": "stream",
     "text": [
      "rep = 1\n",
      "rep = 2\n",
      "rep = 3\n",
      "rep = 4\n",
      "rep = 5\n",
      "rep = 6\n",
      "rep = 7\n",
      "rep = 8\n",
      "rep = 9\n",
      "rep = 10\n",
      "rep = 11\n",
      "rep = 12\n",
      "rep = 13\n",
      "rep = 14\n",
      "rep = 15\n",
      "rep = 16\n",
      "rep = 17\n",
      "rep = 18\n",
      "rep = 19\n",
      "rep = 20\n",
      "rep = 21\n",
      "rep = 22\n",
      "rep = 23\n",
      "rep = 24\n",
      "rep = 25\n",
      "rep = 26\n",
      "rep = 27\n",
      "rep = 28\n",
      "rep = 29\n",
      "rep = "
     ]
    }
   ],
   "source": [
    "srand(123)\n",
    "\n",
    "numRep = 200\n",
    "n = 400\n",
    "\n",
    "resTwo = zeros(numRep)\n",
    "options =  ROCKET.ROCKETOptions(;λ=sqrt(2.*log(py)), refit=true)\n",
    "a = 1\n",
    "b = 2\n",
    "for rep=1:numRep\n",
    "    @show rep\n",
    "    X, Y = genData(Σx, Γ, Ωy, n)\n",
    "    \n",
    "    scaleX = zeros(px)\n",
    "    ROCKET._stdColumn!(scaleX, X)\n",
    "    scale!(scaleX, options.λ)    \n",
    "    \n",
    "    Z = copy(Y)\n",
    "    for j=1:py\n",
    "        γ = HD.sqrtLasso(X, Y[:, j], scaleX)\n",
    "#        γ = X[:, 1:10] \\ Y[:, j]\n",
    "#         @show find(x -> abs(x) > 1e-4, γ)\n",
    "        Z[:,j] = Y[:,j] - X[:,1:10]*γ\n",
    "    end\n",
    "    \n",
    "    eP, eVar = ROCKET.teInference(Z, a, b, 2, 4, options)\n",
    "    resTwo[rep] = (eP - Ωy[a,b]) / sqrt(eVar)\n",
    "end"
   ]
  },
  {
   "cell_type": "code",
   "execution_count": null,
   "metadata": {
    "collapsed": false
   },
   "outputs": [],
   "source": [
    "qq = Distributions.qqbuild(Distributions.Normal(), resTwo) \n",
    "PyPlot.scatter(qq.qx, qq.qy)\n",
    "PyPlot.plot(-4:0.01:4, -4:0.01:4, linestyle=\"--\", color=\"red\")"
   ]
  },
  {
   "cell_type": "code",
   "execution_count": null,
   "metadata": {
    "collapsed": true
   },
   "outputs": [],
   "source": []
  }
 ],
 "metadata": {
  "kernelspec": {
   "display_name": "Julia 0.6.0-pre.beta",
   "language": "julia",
   "name": "julia-0.6"
  },
  "language_info": {
   "file_extension": ".jl",
   "mimetype": "application/julia",
   "name": "julia",
   "version": "0.6.0"
  }
 },
 "nbformat": 4,
 "nbformat_minor": 0
}
